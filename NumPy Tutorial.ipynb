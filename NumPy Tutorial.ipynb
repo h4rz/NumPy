{
  "nbformat": 4,
  "nbformat_minor": 0,
  "metadata": {
    "kernelspec": {
      "display_name": "Python 3",
      "language": "python",
      "name": "python3"
    },
    "language_info": {
      "codemirror_mode": {
        "name": "ipython",
        "version": 3
      },
      "file_extension": ".py",
      "mimetype": "text/x-python",
      "name": "python",
      "nbconvert_exporter": "python",
      "pygments_lexer": "ipython3",
      "version": "3.6.5"
    },
    "colab": {
      "name": "NumPy Tutorial.ipynb",
      "provenance": [],
      "include_colab_link": true
    }
  },
  "cells": [
    {
      "cell_type": "markdown",
      "metadata": {
        "id": "view-in-github",
        "colab_type": "text"
      },
      "source": [
        "<a href=\"https://colab.research.google.com/github/h4rz/NumPy/blob/master/NumPy%20Tutorial.ipynb\" target=\"_parent\"><img src=\"https://colab.research.google.com/assets/colab-badge.svg\" alt=\"Open In Colab\"/></a>"
      ]
    },
    {
      "cell_type": "markdown",
      "metadata": {
        "id": "f7JZ9Hw4orYY"
      },
      "source": [
        "### Load in NumPy (remember to pip install numpy first)"
      ]
    },
    {
      "cell_type": "code",
      "metadata": {
        "id": "bQKPqc9RorYg"
      },
      "source": [
        "import numpy as np"
      ],
      "execution_count": 2,
      "outputs": []
    },
    {
      "cell_type": "markdown",
      "metadata": {
        "id": "JstruLsmorYg"
      },
      "source": [
        "### The Basics"
      ]
    },
    {
      "cell_type": "code",
      "metadata": {
        "colab": {
          "base_uri": "https://localhost:8080/"
        },
        "id": "bpWdphOBorYh",
        "outputId": "f10b18c5-d4be-4095-f03f-27f35e2b95d0"
      },
      "source": [
        "a = np.array([1,2,3], dtype='int32')\n",
        "print(a)"
      ],
      "execution_count": 3,
      "outputs": [
        {
          "output_type": "stream",
          "text": [
            "[1 2 3]\n"
          ],
          "name": "stdout"
        }
      ]
    },
    {
      "cell_type": "code",
      "metadata": {
        "colab": {
          "base_uri": "https://localhost:8080/"
        },
        "id": "bEURAP1_orYi",
        "outputId": "65f6d66d-da48-4eea-a022-fb7f314ed793"
      },
      "source": [
        "b = np.array([[9.0,8.0,7.0],[6.0,5.0,4.0]])\n",
        "print(b)"
      ],
      "execution_count": 15,
      "outputs": [
        {
          "output_type": "stream",
          "text": [
            "[[9. 8. 7.]\n",
            " [6. 5. 4.]\n",
            " [6. 5. 4.]]\n"
          ],
          "name": "stdout"
        }
      ]
    },
    {
      "cell_type": "code",
      "metadata": {
        "colab": {
          "base_uri": "https://localhost:8080/"
        },
        "id": "ScUoX3JdorYi",
        "outputId": "7fc29776-2b04-41d5-e775-b5d4eb56fe90"
      },
      "source": [
        "# Get Dimension\n",
        "print(a.ndim)\n",
        "print(b.ndim)"
      ],
      "execution_count": 16,
      "outputs": [
        {
          "output_type": "stream",
          "text": [
            "1\n",
            "2\n"
          ],
          "name": "stdout"
        }
      ]
    },
    {
      "cell_type": "code",
      "metadata": {
        "colab": {
          "base_uri": "https://localhost:8080/"
        },
        "id": "4rHiqd3KorYj",
        "outputId": "eb821305-0222-4839-b079-88d2b516996d"
      },
      "source": [
        "# Get Shape\n",
        "print(a.shape) # 3 columns, 1 row\n",
        "print(b.shape) # 3 columns, 2 row"
      ],
      "execution_count": 11,
      "outputs": [
        {
          "output_type": "stream",
          "text": [
            "(3,)\n",
            "(2, 3)\n"
          ],
          "name": "stdout"
        }
      ]
    },
    {
      "cell_type": "code",
      "metadata": {
        "colab": {
          "base_uri": "https://localhost:8080/"
        },
        "id": "k448ppaVorYj",
        "outputId": "85503624-8467-4044-a6ba-d4e252af175e"
      },
      "source": [
        "# Get Type\n",
        "a.dtype"
      ],
      "execution_count": 17,
      "outputs": [
        {
          "output_type": "execute_result",
          "data": {
            "text/plain": [
              "dtype('int32')"
            ]
          },
          "metadata": {
            "tags": []
          },
          "execution_count": 17
        }
      ]
    },
    {
      "cell_type": "code",
      "metadata": {
        "colab": {
          "base_uri": "https://localhost:8080/"
        },
        "id": "gXJvjRY4orYk",
        "outputId": "9503e429-e116-42f3-e589-844b6b8c4651"
      },
      "source": [
        "# Get Size\n",
        "a.itemsize"
      ],
      "execution_count": 18,
      "outputs": [
        {
          "output_type": "execute_result",
          "data": {
            "text/plain": [
              "4"
            ]
          },
          "metadata": {
            "tags": []
          },
          "execution_count": 18
        }
      ]
    },
    {
      "cell_type": "code",
      "metadata": {
        "colab": {
          "base_uri": "https://localhost:8080/"
        },
        "id": "I4FWOXkaorYk",
        "outputId": "1b72ea4d-e9e7-4a19-991b-29d35949bb32"
      },
      "source": [
        "# Get total size\n",
        "a.nbytes # a.size * a.itemsize"
      ],
      "execution_count": 20,
      "outputs": [
        {
          "output_type": "execute_result",
          "data": {
            "text/plain": [
              "12"
            ]
          },
          "metadata": {
            "tags": []
          },
          "execution_count": 20
        }
      ]
    },
    {
      "cell_type": "code",
      "metadata": {
        "colab": {
          "base_uri": "https://localhost:8080/"
        },
        "id": "fpxq5DttorYk",
        "outputId": "33891e88-26b3-4544-c51a-9960c91bacf8"
      },
      "source": [
        "# Get number of elements\n",
        "a.size"
      ],
      "execution_count": 21,
      "outputs": [
        {
          "output_type": "execute_result",
          "data": {
            "text/plain": [
              "3"
            ]
          },
          "metadata": {
            "tags": []
          },
          "execution_count": 21
        }
      ]
    },
    {
      "cell_type": "markdown",
      "metadata": {
        "id": "skWVhVWdorYl"
      },
      "source": [
        "### Accessing/Changing specific elements, rows, columns, etc"
      ]
    },
    {
      "cell_type": "code",
      "metadata": {
        "colab": {
          "base_uri": "https://localhost:8080/"
        },
        "id": "P_b5jwtOorYl",
        "outputId": "0475aee3-22ba-4c63-f2c4-bafa095ae280"
      },
      "source": [
        "a = np.array([[1,2,3,4,5,6,7],[8,9,10,11,12,13,14]])\n",
        "print(a)"
      ],
      "execution_count": 22,
      "outputs": [
        {
          "output_type": "stream",
          "text": [
            "[[ 1  2  3  4  5  6  7]\n",
            " [ 8  9 10 11 12 13 14]]\n"
          ],
          "name": "stdout"
        }
      ]
    },
    {
      "cell_type": "code",
      "metadata": {
        "colab": {
          "base_uri": "https://localhost:8080/"
        },
        "id": "AYySGaw3orYl",
        "outputId": "dd2838e7-c312-4cc3-e524-436f95bced7f"
      },
      "source": [
        "# Get a specific element [r, c]\n",
        "a[1, 5]"
      ],
      "execution_count": 24,
      "outputs": [
        {
          "output_type": "execute_result",
          "data": {
            "text/plain": [
              "13"
            ]
          },
          "metadata": {
            "tags": []
          },
          "execution_count": 24
        }
      ]
    },
    {
      "cell_type": "code",
      "metadata": {
        "colab": {
          "base_uri": "https://localhost:8080/"
        },
        "id": "pYcJa9OnorYm",
        "outputId": "9082fa48-a56a-4845-898b-d992133f33e8"
      },
      "source": [
        "# Get a specific row \n",
        "a[0, :]"
      ],
      "execution_count": 27,
      "outputs": [
        {
          "output_type": "execute_result",
          "data": {
            "text/plain": [
              "array([1, 2, 3, 4, 5, 6, 7])"
            ]
          },
          "metadata": {
            "tags": []
          },
          "execution_count": 27
        }
      ]
    },
    {
      "cell_type": "code",
      "metadata": {
        "colab": {
          "base_uri": "https://localhost:8080/"
        },
        "id": "e1xtskrWorYm",
        "outputId": "d88af931-5575-4932-a3d8-0fbea05fce71"
      },
      "source": [
        "# Get a specific column\n",
        "a[:, 2]"
      ],
      "execution_count": 28,
      "outputs": [
        {
          "output_type": "execute_result",
          "data": {
            "text/plain": [
              "array([ 3, 10])"
            ]
          },
          "metadata": {
            "tags": []
          },
          "execution_count": 28
        }
      ]
    },
    {
      "cell_type": "code",
      "metadata": {
        "colab": {
          "base_uri": "https://localhost:8080/"
        },
        "id": "o4qVPC0uorYm",
        "outputId": "b701fb42-9ad2-4afc-fbb3-878fced8c605"
      },
      "source": [
        "# Getting a little more fancy [startindex:endindex:stepsize]\n",
        "a[0, 1:-1:2] #a[0, 1:6:2] "
      ],
      "execution_count": 31,
      "outputs": [
        {
          "output_type": "execute_result",
          "data": {
            "text/plain": [
              "array([2, 4, 6])"
            ]
          },
          "metadata": {
            "tags": []
          },
          "execution_count": 31
        }
      ]
    },
    {
      "cell_type": "code",
      "metadata": {
        "id": "tqQpc5haorYn",
        "outputId": "6bcd8fab-be80-428b-b0df-2eafe76bfcb8"
      },
      "source": [
        "a[1,5] = 20\n",
        "\n",
        "a[:,2] = [1,2]\n",
        "print(a)"
      ],
      "execution_count": null,
      "outputs": [
        {
          "output_type": "stream",
          "text": [
            "[[ 1  2  5  4  5  6  7]\n",
            " [ 8  9  5 11 12 20 14]]\n",
            "[[ 1  2  1  4  5  6  7]\n",
            " [ 8  9  2 11 12 20 14]]\n"
          ],
          "name": "stdout"
        }
      ]
    },
    {
      "cell_type": "markdown",
      "metadata": {
        "id": "7RCgTgvcorYn"
      },
      "source": [
        "*3-d example"
      ]
    },
    {
      "cell_type": "code",
      "metadata": {
        "colab": {
          "base_uri": "https://localhost:8080/"
        },
        "id": "BZKTcp3horYn",
        "outputId": "3300df67-a3ce-46d7-bc6f-924597294e9a"
      },
      "source": [
        "b = np.array([[[1,2],[3,4]],[[5,6],[7,8]]])\n",
        "print(b)"
      ],
      "execution_count": 33,
      "outputs": [
        {
          "output_type": "stream",
          "text": [
            "[[[1 2]\n",
            "  [3 4]]\n",
            "\n",
            " [[5 6]\n",
            "  [7 8]]]\n"
          ],
          "name": "stdout"
        }
      ]
    },
    {
      "cell_type": "code",
      "metadata": {
        "id": "OPxKcf6horYn",
        "outputId": "507b7bf6-0cdf-490b-f688-029ce7fb8f00"
      },
      "source": [
        "# Get specific element (work outside in)\n",
        "b[0,1,1]"
      ],
      "execution_count": null,
      "outputs": [
        {
          "output_type": "execute_result",
          "data": {
            "text/plain": [
              "4"
            ]
          },
          "metadata": {
            "tags": []
          },
          "execution_count": 30
        }
      ]
    },
    {
      "cell_type": "code",
      "metadata": {
        "id": "Vlk7XISUorYo"
      },
      "source": [
        "# replace \n",
        "b[:,1,:] = [[9,9],[8,8]]"
      ],
      "execution_count": 34,
      "outputs": []
    },
    {
      "cell_type": "code",
      "metadata": {
        "colab": {
          "base_uri": "https://localhost:8080/"
        },
        "id": "Gpdq2LwHorYo",
        "outputId": "5d83c63b-8e80-4101-9c2d-e9b496474607"
      },
      "source": [
        "b"
      ],
      "execution_count": 35,
      "outputs": [
        {
          "output_type": "execute_result",
          "data": {
            "text/plain": [
              "array([[[1, 2],\n",
              "        [9, 9]],\n",
              "\n",
              "       [[5, 6],\n",
              "        [8, 8]]])"
            ]
          },
          "metadata": {
            "tags": []
          },
          "execution_count": 35
        }
      ]
    },
    {
      "cell_type": "markdown",
      "metadata": {
        "id": "jqMNdGNaorYo"
      },
      "source": [
        "### Initializing Different Types of Arrays"
      ]
    },
    {
      "cell_type": "code",
      "metadata": {
        "colab": {
          "base_uri": "https://localhost:8080/"
        },
        "id": "mALC1RaRorYo",
        "outputId": "7b28d188-fae1-434c-add6-aa02f6d00901"
      },
      "source": [
        "# All 0s matrix\n",
        "np.zeros((2,3))"
      ],
      "execution_count": 36,
      "outputs": [
        {
          "output_type": "execute_result",
          "data": {
            "text/plain": [
              "array([[0., 0., 0.],\n",
              "       [0., 0., 0.]])"
            ]
          },
          "metadata": {
            "tags": []
          },
          "execution_count": 36
        }
      ]
    },
    {
      "cell_type": "code",
      "metadata": {
        "colab": {
          "base_uri": "https://localhost:8080/"
        },
        "id": "kfWORyj5orYo",
        "outputId": "30141218-e2f7-4185-8937-cd90e6acd715"
      },
      "source": [
        "# All 1s matrix\n",
        "np.ones((4,2,2), dtype='int32')"
      ],
      "execution_count": 41,
      "outputs": [
        {
          "output_type": "execute_result",
          "data": {
            "text/plain": [
              "array([[[1, 1],\n",
              "        [1, 1]],\n",
              "\n",
              "       [[1, 1],\n",
              "        [1, 1]],\n",
              "\n",
              "       [[1, 1],\n",
              "        [1, 1]],\n",
              "\n",
              "       [[1, 1],\n",
              "        [1, 1]]], dtype=int32)"
            ]
          },
          "metadata": {
            "tags": []
          },
          "execution_count": 41
        }
      ]
    },
    {
      "cell_type": "code",
      "metadata": {
        "colab": {
          "base_uri": "https://localhost:8080/"
        },
        "id": "A1-jFfBHorYp",
        "outputId": "f5fb9c80-75ae-4b78-ff41-baf05d7cd103"
      },
      "source": [
        "# Any other number\n",
        "np.full((2,2), 99)"
      ],
      "execution_count": 43,
      "outputs": [
        {
          "output_type": "execute_result",
          "data": {
            "text/plain": [
              "array([[99, 99],\n",
              "       [99, 99]])"
            ]
          },
          "metadata": {
            "tags": []
          },
          "execution_count": 43
        }
      ]
    },
    {
      "cell_type": "code",
      "metadata": {
        "colab": {
          "base_uri": "https://localhost:8080/"
        },
        "id": "fPwx5rCkorYp",
        "outputId": "35b3aee7-95ae-42e1-f414-25aaf45b9f88"
      },
      "source": [
        "# Any other number (full_like)\n",
        "np.full_like(a, 4)"
      ],
      "execution_count": 44,
      "outputs": [
        {
          "output_type": "execute_result",
          "data": {
            "text/plain": [
              "array([[4, 4, 4, 4, 4, 4, 4],\n",
              "       [4, 4, 4, 4, 4, 4, 4]])"
            ]
          },
          "metadata": {
            "tags": []
          },
          "execution_count": 44
        }
      ]
    },
    {
      "cell_type": "code",
      "metadata": {
        "colab": {
          "base_uri": "https://localhost:8080/"
        },
        "id": "QNgngozborYp",
        "outputId": "ead31ccd-2876-4f01-95c1-c0ea331478d9"
      },
      "source": [
        "# Random decimal numbers\n",
        "np.random.rand(4,2)"
      ],
      "execution_count": 47,
      "outputs": [
        {
          "output_type": "execute_result",
          "data": {
            "text/plain": [
              "array([[0.45350107, 0.47220051],\n",
              "       [0.33077429, 0.62147406],\n",
              "       [0.77484739, 0.10275741],\n",
              "       [0.72238517, 0.60795015]])"
            ]
          },
          "metadata": {
            "tags": []
          },
          "execution_count": 47
        }
      ]
    },
    {
      "cell_type": "code",
      "metadata": {
        "colab": {
          "base_uri": "https://localhost:8080/"
        },
        "id": "eu4E_WikorYp",
        "outputId": "53d25b90-01b1-420f-c2f5-7981b3da5359"
      },
      "source": [
        "# Random Integer values randint(start, end, size)\n",
        "np.random.randint(-4,8, size=(3,3))"
      ],
      "execution_count": 48,
      "outputs": [
        {
          "output_type": "execute_result",
          "data": {
            "text/plain": [
              "array([[-1,  0, -4],\n",
              "       [-2,  6,  0],\n",
              "       [-1,  6, -2]])"
            ]
          },
          "metadata": {
            "tags": []
          },
          "execution_count": 48
        }
      ]
    },
    {
      "cell_type": "code",
      "metadata": {
        "colab": {
          "base_uri": "https://localhost:8080/"
        },
        "id": "ir_EJJQxorYq",
        "outputId": "2e0caf83-8f94-4a59-c9bf-f4d10dc8611b"
      },
      "source": [
        "# The identity matrix\n",
        "np.identity(5)"
      ],
      "execution_count": 49,
      "outputs": [
        {
          "output_type": "execute_result",
          "data": {
            "text/plain": [
              "array([[1., 0., 0., 0., 0.],\n",
              "       [0., 1., 0., 0., 0.],\n",
              "       [0., 0., 1., 0., 0.],\n",
              "       [0., 0., 0., 1., 0.],\n",
              "       [0., 0., 0., 0., 1.]])"
            ]
          },
          "metadata": {
            "tags": []
          },
          "execution_count": 49
        }
      ]
    },
    {
      "cell_type": "code",
      "metadata": {
        "colab": {
          "base_uri": "https://localhost:8080/"
        },
        "id": "BJ0suLU1orYq",
        "outputId": "23d14ef8-3514-4585-9d6e-1fa3f0ab790f"
      },
      "source": [
        "# Repeat an array\n",
        "arr = np.array([[1,2,3]])\n",
        "r1 = np.repeat(arr,3, axis=0)\n",
        "print(r1)"
      ],
      "execution_count": 55,
      "outputs": [
        {
          "output_type": "stream",
          "text": [
            "[[1 2 3]\n",
            " [1 2 3]\n",
            " [1 2 3]]\n"
          ],
          "name": "stdout"
        }
      ]
    },
    {
      "cell_type": "code",
      "metadata": {
        "colab": {
          "base_uri": "https://localhost:8080/"
        },
        "id": "__TJmAW0orYq",
        "outputId": "5c59af60-5729-465b-91c0-011e87e45bab"
      },
      "source": [
        "output = np.ones((5,5))\n",
        "print(output)\n",
        "\n",
        "center = np.zeros((3,3))\n",
        "center[1,1] = 9\n",
        "print(center)\n",
        "\n",
        "output[1:4,1:4] = center\n",
        "print(output)"
      ],
      "execution_count": 69,
      "outputs": [
        {
          "output_type": "stream",
          "text": [
            "[[1. 1. 1. 1. 1.]\n",
            " [1. 1. 1. 1. 1.]\n",
            " [1. 1. 1. 1. 1.]\n",
            " [1. 1. 1. 1. 1.]\n",
            " [1. 1. 1. 1. 1.]]\n",
            "[[0. 0. 0.]\n",
            " [0. 9. 0.]\n",
            " [0. 0. 0.]]\n",
            "[[1. 1. 1. 1. 1.]\n",
            " [1. 0. 0. 0. 1.]\n",
            " [1. 0. 9. 0. 1.]\n",
            " [1. 0. 0. 0. 1.]\n",
            " [1. 1. 1. 1. 1.]]\n"
          ],
          "name": "stdout"
        }
      ]
    },
    {
      "cell_type": "markdown",
      "metadata": {
        "id": "HzisGrKWorYq"
      },
      "source": [
        "##### Be careful when copying arrays!!!"
      ]
    },
    {
      "cell_type": "code",
      "metadata": {
        "colab": {
          "base_uri": "https://localhost:8080/"
        },
        "id": "ExEfumJqorYr",
        "outputId": "5bae4cf4-f053-4ed5-8333-44b5807e04ee"
      },
      "source": [
        "a = np.array([1,2,3])\n",
        "b = a.copy()\n",
        "b[0] = 100\n",
        "\n",
        "print(a)"
      ],
      "execution_count": 70,
      "outputs": [
        {
          "output_type": "stream",
          "text": [
            "[1 2 3]\n"
          ],
          "name": "stdout"
        }
      ]
    },
    {
      "cell_type": "markdown",
      "metadata": {
        "id": "CM2hyCPjorYr"
      },
      "source": [
        "### Mathematics"
      ]
    },
    {
      "cell_type": "code",
      "metadata": {
        "colab": {
          "base_uri": "https://localhost:8080/"
        },
        "id": "9b74LVc7orYr",
        "outputId": "d7f7ad69-7ae4-4cba-cea5-11ac77fe0c13"
      },
      "source": [
        "a = np.array([1,2,3,4])\n",
        "print(a)"
      ],
      "execution_count": 71,
      "outputs": [
        {
          "output_type": "stream",
          "text": [
            "[1 2 3 4]\n"
          ],
          "name": "stdout"
        }
      ]
    },
    {
      "cell_type": "code",
      "metadata": {
        "colab": {
          "base_uri": "https://localhost:8080/"
        },
        "id": "nN32wahZorYr",
        "outputId": "9014e88d-bb2a-4ce9-e9d4-67f5c3dca619"
      },
      "source": [
        "a + 2"
      ],
      "execution_count": 72,
      "outputs": [
        {
          "output_type": "execute_result",
          "data": {
            "text/plain": [
              "array([3, 4, 5, 6])"
            ]
          },
          "metadata": {
            "tags": []
          },
          "execution_count": 72
        }
      ]
    },
    {
      "cell_type": "code",
      "metadata": {
        "colab": {
          "base_uri": "https://localhost:8080/"
        },
        "id": "7kLDErLCorYr",
        "outputId": "d03129ad-ceb9-4d84-ee9c-b22769b6734a"
      },
      "source": [
        "a - 2"
      ],
      "execution_count": 73,
      "outputs": [
        {
          "output_type": "execute_result",
          "data": {
            "text/plain": [
              "array([-1,  0,  1,  2])"
            ]
          },
          "metadata": {
            "tags": []
          },
          "execution_count": 73
        }
      ]
    },
    {
      "cell_type": "code",
      "metadata": {
        "colab": {
          "base_uri": "https://localhost:8080/"
        },
        "id": "SxWQsSHPorYs",
        "outputId": "ce1b582d-b0e0-476c-fddd-9be5ad234ccf"
      },
      "source": [
        "a * 2"
      ],
      "execution_count": 74,
      "outputs": [
        {
          "output_type": "execute_result",
          "data": {
            "text/plain": [
              "array([2, 4, 6, 8])"
            ]
          },
          "metadata": {
            "tags": []
          },
          "execution_count": 74
        }
      ]
    },
    {
      "cell_type": "code",
      "metadata": {
        "colab": {
          "base_uri": "https://localhost:8080/"
        },
        "id": "yGQ4f59torYs",
        "outputId": "ae95a376-d0fe-47d3-e5eb-141b1bdea4cb"
      },
      "source": [
        "a / 2"
      ],
      "execution_count": 75,
      "outputs": [
        {
          "output_type": "execute_result",
          "data": {
            "text/plain": [
              "array([0.5, 1. , 1.5, 2. ])"
            ]
          },
          "metadata": {
            "tags": []
          },
          "execution_count": 75
        }
      ]
    },
    {
      "cell_type": "code",
      "metadata": {
        "colab": {
          "base_uri": "https://localhost:8080/"
        },
        "id": "RIm3wKpkorYs",
        "outputId": "c7c45f4e-b586-48bf-f263-0928315e1b7b"
      },
      "source": [
        "b = np.array([1,0,1,0])\n",
        "a + b"
      ],
      "execution_count": 76,
      "outputs": [
        {
          "output_type": "execute_result",
          "data": {
            "text/plain": [
              "array([2, 2, 4, 4])"
            ]
          },
          "metadata": {
            "tags": []
          },
          "execution_count": 76
        }
      ]
    },
    {
      "cell_type": "code",
      "metadata": {
        "colab": {
          "base_uri": "https://localhost:8080/"
        },
        "id": "PCaHUqIJorYs",
        "outputId": "81ab66f7-e343-4046-feea-0bf3a806afba"
      },
      "source": [
        "a ** 2"
      ],
      "execution_count": 77,
      "outputs": [
        {
          "output_type": "execute_result",
          "data": {
            "text/plain": [
              "array([ 1,  4,  9, 16])"
            ]
          },
          "metadata": {
            "tags": []
          },
          "execution_count": 77
        }
      ]
    },
    {
      "cell_type": "code",
      "metadata": {
        "colab": {
          "base_uri": "https://localhost:8080/"
        },
        "id": "ZRqeZUtGorYs",
        "outputId": "9b68ac96-f390-4956-ce68-6340bf8d5fa8"
      },
      "source": [
        "# Take the sin\n",
        "np.cos(a)\n",
        "\n"
      ],
      "execution_count": 78,
      "outputs": [
        {
          "output_type": "execute_result",
          "data": {
            "text/plain": [
              "array([ 0.54030231, -0.41614684, -0.9899925 , -0.65364362])"
            ]
          },
          "metadata": {
            "tags": []
          },
          "execution_count": 78
        }
      ]
    },
    {
      "cell_type": "code",
      "metadata": {
        "id": "SgyrDlxcorYt"
      },
      "source": [
        "# For a lot more (https://docs.scipy.org/doc/numpy/reference/routines.math.html)"
      ],
      "execution_count": null,
      "outputs": []
    },
    {
      "cell_type": "markdown",
      "metadata": {
        "id": "qNyeA3NForYt"
      },
      "source": [
        "##### Linear Algebra"
      ]
    },
    {
      "cell_type": "code",
      "metadata": {
        "colab": {
          "base_uri": "https://localhost:8080/"
        },
        "id": "hweqh0umorYt",
        "outputId": "2a7d793b-6a29-4429-9a63-1d7d5d88f910"
      },
      "source": [
        "a = np.ones((2,3))\n",
        "print(a)\n",
        "\n",
        "b = np.full((3,2), 2)\n",
        "print(b)\n",
        "\n",
        "np.matmul(a,b)"
      ],
      "execution_count": 79,
      "outputs": [
        {
          "output_type": "stream",
          "text": [
            "[[1. 1. 1.]\n",
            " [1. 1. 1.]]\n",
            "[[2 2]\n",
            " [2 2]\n",
            " [2 2]]\n"
          ],
          "name": "stdout"
        },
        {
          "output_type": "execute_result",
          "data": {
            "text/plain": [
              "array([[6., 6.],\n",
              "       [6., 6.]])"
            ]
          },
          "metadata": {
            "tags": []
          },
          "execution_count": 79
        }
      ]
    },
    {
      "cell_type": "code",
      "metadata": {
        "colab": {
          "base_uri": "https://localhost:8080/"
        },
        "id": "SpaTyhzvorYt",
        "outputId": "10459998-ad7f-4892-e3bb-f9caefc15a8b"
      },
      "source": [
        "# Find the determinant\n",
        "c = np.identity(3)\n",
        "np.linalg.det(c)"
      ],
      "execution_count": 80,
      "outputs": [
        {
          "output_type": "execute_result",
          "data": {
            "text/plain": [
              "1.0"
            ]
          },
          "metadata": {
            "tags": []
          },
          "execution_count": 80
        }
      ]
    },
    {
      "cell_type": "code",
      "metadata": {
        "id": "1YDS0mbnorYt"
      },
      "source": [
        "## Reference docs (https://docs.scipy.org/doc/numpy/reference/routines.linalg.html)\n",
        "\n",
        "# Determinant\n",
        "# Trace\n",
        "# Singular Vector Decomposition\n",
        "# Eigenvalues\n",
        "# Matrix Norm\n",
        "# Inverse\n",
        "# Etc..."
      ],
      "execution_count": null,
      "outputs": []
    },
    {
      "cell_type": "markdown",
      "metadata": {
        "id": "cYQy6HMEorYu"
      },
      "source": [
        "##### Statistics"
      ]
    },
    {
      "cell_type": "code",
      "metadata": {
        "colab": {
          "base_uri": "https://localhost:8080/"
        },
        "id": "kJ_LwDwcorYu",
        "outputId": "9a6a8936-c9c8-4898-8cd8-c3bd638367f2"
      },
      "source": [
        "stats = np.array([[1,2,3],[4,5,6]])\n",
        "stats"
      ],
      "execution_count": 85,
      "outputs": [
        {
          "output_type": "execute_result",
          "data": {
            "text/plain": [
              "array([[1, 2, 3],\n",
              "       [4, 5, 6]])"
            ]
          },
          "metadata": {
            "tags": []
          },
          "execution_count": 85
        }
      ]
    },
    {
      "cell_type": "code",
      "metadata": {
        "colab": {
          "base_uri": "https://localhost:8080/"
        },
        "id": "-rt_3SDKorYu",
        "outputId": "def13124-fe28-430c-fd42-f64c659a9d5d"
      },
      "source": [
        "np.min(stats)"
      ],
      "execution_count": 86,
      "outputs": [
        {
          "output_type": "execute_result",
          "data": {
            "text/plain": [
              "1"
            ]
          },
          "metadata": {
            "tags": []
          },
          "execution_count": 86
        }
      ]
    },
    {
      "cell_type": "code",
      "metadata": {
        "colab": {
          "base_uri": "https://localhost:8080/"
        },
        "id": "pm8Mi18LorYu",
        "outputId": "def6f5ac-e265-4cc6-b5f3-f50816169489"
      },
      "source": [
        "np.max(stats, axis=1)"
      ],
      "execution_count": 87,
      "outputs": [
        {
          "output_type": "execute_result",
          "data": {
            "text/plain": [
              "array([3, 6])"
            ]
          },
          "metadata": {
            "tags": []
          },
          "execution_count": 87
        }
      ]
    },
    {
      "cell_type": "code",
      "metadata": {
        "colab": {
          "base_uri": "https://localhost:8080/"
        },
        "id": "_-bVIgPcorYv",
        "outputId": "966b5455-123a-4494-cc70-e4056213e3e2"
      },
      "source": [
        "np.sum(stats, axis=0)"
      ],
      "execution_count": 90,
      "outputs": [
        {
          "output_type": "execute_result",
          "data": {
            "text/plain": [
              "array([5, 7, 9])"
            ]
          },
          "metadata": {
            "tags": []
          },
          "execution_count": 90
        }
      ]
    },
    {
      "cell_type": "markdown",
      "metadata": {
        "id": "28eZ9SrUorYv"
      },
      "source": [
        "### Reorganizing Arrays"
      ]
    },
    {
      "cell_type": "code",
      "metadata": {
        "colab": {
          "base_uri": "https://localhost:8080/"
        },
        "id": "Au7oXv46orYv",
        "outputId": "a80d647d-d2f4-4820-acc1-a096b307621a"
      },
      "source": [
        "before = np.array([[1,2,3,4],[5,6,7,8]])\n",
        "print(before)\n",
        "\n",
        "after = before.reshape((2,2,2))\n",
        "print(after)"
      ],
      "execution_count": 95,
      "outputs": [
        {
          "output_type": "stream",
          "text": [
            "[[1 2 3 4]\n",
            " [5 6 7 8]]\n",
            "[[[1 2]\n",
            "  [3 4]]\n",
            "\n",
            " [[5 6]\n",
            "  [7 8]]]\n"
          ],
          "name": "stdout"
        }
      ]
    },
    {
      "cell_type": "code",
      "metadata": {
        "colab": {
          "base_uri": "https://localhost:8080/"
        },
        "id": "VyOMF3N-orYv",
        "outputId": "16d956bf-5fbc-4236-e82a-ffc8801d1adf"
      },
      "source": [
        "# Vertically stacking vectors\n",
        "v1 = np.array([1,2,3,4])\n",
        "v2 = np.array([5,6,7,8])\n",
        "\n",
        "np.vstack([v1,v2,v1,v2])"
      ],
      "execution_count": 96,
      "outputs": [
        {
          "output_type": "execute_result",
          "data": {
            "text/plain": [
              "array([[1, 2, 3, 4],\n",
              "       [5, 6, 7, 8],\n",
              "       [1, 2, 3, 4],\n",
              "       [5, 6, 7, 8]])"
            ]
          },
          "metadata": {
            "tags": []
          },
          "execution_count": 96
        }
      ]
    },
    {
      "cell_type": "code",
      "metadata": {
        "colab": {
          "base_uri": "https://localhost:8080/"
        },
        "id": "YhwtURa6orYv",
        "outputId": "74acb258-bbe0-4235-f237-591199bf1c28"
      },
      "source": [
        "# Horizontal  stack\n",
        "h1 = np.ones((2,4))\n",
        "h2 = np.zeros((2,2))\n",
        "\n",
        "np.hstack((h1,h2))"
      ],
      "execution_count": 97,
      "outputs": [
        {
          "output_type": "execute_result",
          "data": {
            "text/plain": [
              "array([[1., 1., 1., 1., 0., 0.],\n",
              "       [1., 1., 1., 1., 0., 0.]])"
            ]
          },
          "metadata": {
            "tags": []
          },
          "execution_count": 97
        }
      ]
    },
    {
      "cell_type": "markdown",
      "metadata": {
        "id": "5Qs4G742orYw"
      },
      "source": [
        "### Miscellaneous\n",
        "##### Load Data from File"
      ]
    },
    {
      "cell_type": "code",
      "metadata": {
        "colab": {
          "base_uri": "https://localhost:8080/",
          "height": 130
        },
        "id": "9uIdo7CSorYw",
        "outputId": "531fc2ee-8b12-4cbc-e53b-43642381f743"
      },
      "source": [
        "filedata = np.genfromtxt('data.txt', delimiter=',')\n",
        "filedata = filedata.astype('int32')\n",
        "print(filedata)"
      ],
      "execution_count": 99,
      "outputs": [
        {
          "output_type": "error",
          "ename": "SyntaxError",
          "evalue": "ignored",
          "traceback": [
            "\u001b[0;36m  File \u001b[0;32m\"<ipython-input-99-0b10a4cf2091>\"\u001b[0;36m, line \u001b[0;32m3\u001b[0m\n\u001b[0;31m    filedata = [[  1  13  21  11 196  75   4   3  34   6   7   8   0   1   2   3   4   5]\u001b[0m\n\u001b[0m                       ^\u001b[0m\n\u001b[0;31mSyntaxError\u001b[0m\u001b[0;31m:\u001b[0m invalid syntax\n"
          ]
        }
      ]
    },
    {
      "cell_type": "markdown",
      "metadata": {
        "id": "LHTWJ10VorYw"
      },
      "source": [
        "##### Boolean Masking and Advanced Indexing"
      ]
    },
    {
      "cell_type": "code",
      "metadata": {
        "id": "E1mSN1i7orYw",
        "outputId": "c86a4244-faba-43c6-e572-515d9cde9c5c"
      },
      "source": [
        "(~((filedata > 50) & (filedata < 100)))"
      ],
      "execution_count": null,
      "outputs": [
        {
          "output_type": "execute_result",
          "data": {
            "text/plain": [
              "array([[ True,  True,  True,  True,  True, False,  True,  True,  True,\n",
              "         True,  True,  True,  True,  True,  True,  True,  True,  True],\n",
              "       [ True,  True,  True,  True,  True, False,  True, False,  True,\n",
              "         True,  True,  True,  True,  True,  True,  True,  True,  True],\n",
              "       [ True,  True,  True,  True,  True,  True,  True,  True, False,\n",
              "         True,  True,  True,  True,  True,  True,  True, False, False]])"
            ]
          },
          "metadata": {
            "tags": []
          },
          "execution_count": 196
        }
      ]
    },
    {
      "cell_type": "code",
      "metadata": {
        "id": "xqz1A1a-orYw"
      },
      "source": [
        ""
      ],
      "execution_count": null,
      "outputs": []
    },
    {
      "cell_type": "code",
      "metadata": {
        "id": "avXrZbRborYx"
      },
      "source": [
        ""
      ],
      "execution_count": null,
      "outputs": []
    },
    {
      "cell_type": "code",
      "metadata": {
        "id": "bsn0H64HorYx"
      },
      "source": [
        ""
      ],
      "execution_count": null,
      "outputs": []
    },
    {
      "cell_type": "code",
      "metadata": {
        "id": "Gp3Bgl5DorYx"
      },
      "source": [
        ""
      ],
      "execution_count": null,
      "outputs": []
    },
    {
      "cell_type": "code",
      "metadata": {
        "id": "FgHndHmKorYx"
      },
      "source": [
        ""
      ],
      "execution_count": null,
      "outputs": []
    }
  ]
}